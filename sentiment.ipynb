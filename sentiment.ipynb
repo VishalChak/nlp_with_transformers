{
 "cells": [
  {
   "cell_type": "markdown",
   "id": "a1181920-4006-41c0-97b5-cf6c078517cb",
   "metadata": {},
   "source": [
    "## Sentiment Analysis using BERT\n",
    "1. Initializing the Model\n",
    "2. Tokenizing\n",
    "3. Processing the Model\n",
    "4. Formatting the Output"
   ]
  },
  {
   "cell_type": "code",
   "execution_count": 3,
   "id": "d28d3914-24a2-42cb-82ab-b25d556968e5",
   "metadata": {},
   "outputs": [],
   "source": [
    "import flair\n",
    "model = flair.models.TextClassifier.load('en-sentiment')"
   ]
  },
  {
   "cell_type": "code",
   "execution_count": 8,
   "id": "c7de5dc9-be38-4a7b-b983-de4b37d9c71f",
   "metadata": {},
   "outputs": [],
   "source": [
    "text = 'I love you. Do you love me?'"
   ]
  },
  {
   "cell_type": "code",
   "execution_count": 9,
   "id": "81d8f5bf-7d23-4679-bc40-06cee46b5b28",
   "metadata": {},
   "outputs": [
    {
     "data": {
      "text/plain": [
       "Sentence[9]: \"I love you. Do you love me?\""
      ]
     },
     "execution_count": 9,
     "metadata": {},
     "output_type": "execute_result"
    }
   ],
   "source": [
    "sentence = flair.data.Sentence(text)\n",
    "sentence"
   ]
  },
  {
   "cell_type": "code",
   "execution_count": 10,
   "id": "e8ffe982-c61c-4e60-96c4-bd673c84a984",
   "metadata": {},
   "outputs": [
    {
     "data": {
      "text/plain": [
       "'I love you . Do you love me ?'"
      ]
     },
     "execution_count": 10,
     "metadata": {},
     "output_type": "execute_result"
    }
   ],
   "source": [
    "sentence.to_tokenized_string()"
   ]
  },
  {
   "cell_type": "code",
   "execution_count": 13,
   "id": "ca555cba-9090-4e60-8a32-329f8e26e83c",
   "metadata": {},
   "outputs": [
    {
     "name": "stdout",
     "output_type": "stream",
     "text": [
      "Sentence[9]: \"I love you. Do you love me?\" → POSITIVE (0.9956) ['Sentence[9]: \"I love you. Do you love me?\"'/'POSITIVE' (0.9956)]\n"
     ]
    }
   ],
   "source": [
    "model.predict(sentence)\n",
    "print(sentence, sentence.get_labels())"
   ]
  },
  {
   "cell_type": "code",
   "execution_count": 22,
   "id": "bd8675fe-8bd5-47d7-8d7f-72f246ba9dc0",
   "metadata": {},
   "outputs": [
    {
     "name": "stdout",
     "output_type": "stream",
     "text": [
      "0.9358446002006531 NEGATIVE\n"
     ]
    }
   ],
   "source": [
    "txt = \"I hate you. do you love me\"\n",
    "sentence = flair.data.Sentence(txt)\n",
    "model.predict(sentence)\n",
    "print(sentence.get_labels()[0].score , sentence.get_labels()[0].value)"
   ]
  },
  {
   "cell_type": "code",
   "execution_count": null,
   "id": "81e53c79-130f-4aa7-b766-a9d796d111e6",
   "metadata": {},
   "outputs": [],
   "source": []
  },
  {
   "cell_type": "code",
   "execution_count": null,
   "id": "1ca38b6e-431b-46ab-8cf5-3fb3f9539444",
   "metadata": {},
   "outputs": [],
   "source": []
  }
 ],
 "metadata": {
  "kernelspec": {
   "display_name": "Python 3 (ipykernel)",
   "language": "python",
   "name": "python3"
  },
  "language_info": {
   "codemirror_mode": {
    "name": "ipython",
    "version": 3
   },
   "file_extension": ".py",
   "mimetype": "text/x-python",
   "name": "python",
   "nbconvert_exporter": "python",
   "pygments_lexer": "ipython3",
   "version": "3.9.17"
  }
 },
 "nbformat": 4,
 "nbformat_minor": 5
}
